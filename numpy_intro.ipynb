{
  "nbformat": 4,
  "nbformat_minor": 0,
  "metadata": {
    "colab": {
      "name": "numpy intro.ipynb",
      "provenance": [],
      "collapsed_sections": [
        "R0VOXnBcAJSG",
        "fAkSZLC2H6KD",
        "W-dNJJISWAEt",
        "JeHc_8PYvzIG",
        "yvao7nAlhnFt",
        "atfCTa8-v567"
      ],
      "include_colab_link": true
    },
    "kernelspec": {
      "name": "python3",
      "display_name": "Python 3"
    }
  },
  "cells": [
    {
      "cell_type": "markdown",
      "metadata": {
        "id": "view-in-github",
        "colab_type": "text"
      },
      "source": [
        "<a href=\"https://colab.research.google.com/github/jeetcodes499/club-assignments/blob/master/numpy_intro.ipynb\" target=\"_parent\"><img src=\"https://colab.research.google.com/assets/colab-badge.svg\" alt=\"Open In Colab\"/></a>"
      ]
    },
    {
      "cell_type": "markdown",
      "metadata": {
        "id": "R0VOXnBcAJSG",
        "colab_type": "text"
      },
      "source": [
        "# Why numpy?\n",
        "1.   numpy stands for numerical python\n",
        "2.   If you wanna do data science and machine learning you need to learn it.\n",
        "3.   Why though? Because it's fast. With the help of this library we can crunch numbers much faster than trivial ways like python list, python loops, etc.\n",
        "\n"
      ]
    },
    {
      "cell_type": "code",
      "metadata": {
        "id": "GbiGjZYy_462",
        "colab_type": "code",
        "colab": {}
      },
      "source": [
        "# First of all. Let's import the numpy library as np\n",
        "import numpy as np"
      ],
      "execution_count": 1,
      "outputs": []
    },
    {
      "cell_type": "markdown",
      "metadata": {
        "id": "fAkSZLC2H6KD",
        "colab_type": "text"
      },
      "source": [
        "# numpy arrays\n"
      ]
    },
    {
      "cell_type": "code",
      "metadata": {
        "id": "2IbpmwfQIMEY",
        "colab_type": "code",
        "colab": {
          "base_uri": "https://localhost:8080/",
          "height": 67
        },
        "outputId": "7c136d8c-d4c2-4335-aac2-61c5a03723b5"
      },
      "source": [
        "a = np.zeros(3)   # Create an array of all zeros\n",
        "print(a)          # printing the arrays of zeros\n",
        "print(type(a))    # data type of variable a\n",
        "print(type(a[0])) # type of element inside the array"
      ],
      "execution_count": 2,
      "outputs": [
        {
          "output_type": "stream",
          "text": [
            "[0. 0. 0.]\n",
            "<class 'numpy.ndarray'>\n",
            "<class 'numpy.float64'>\n"
          ],
          "name": "stdout"
        }
      ]
    },
    {
      "cell_type": "code",
      "metadata": {
        "id": "mhwy3dm4KC08",
        "colab_type": "code",
        "colab": {}
      },
      "source": [
        "?print()\n",
        "#?type()"
      ],
      "execution_count": 3,
      "outputs": []
    },
    {
      "cell_type": "markdown",
      "metadata": {
        "id": "aeKTKmOSJSCY",
        "colab_type": "text"
      },
      "source": [
        "Great now let's create different sizes of array using np.zeros"
      ]
    },
    {
      "cell_type": "code",
      "metadata": {
        "id": "xUZ31cj8JQd4",
        "colab_type": "code",
        "colab": {
          "base_uri": "https://localhost:8080/",
          "height": 252
        },
        "outputId": "c628c65a-ce07-4d0d-8b35-09388209024a"
      },
      "source": [
        "b = np.zeros(10)                            # An array with slightly larger number of vaules\n",
        "print(b)                                    # Printing the array\n",
        "print(b.shape)                              # To derive the shape of the array\n",
        "b.shape = (10, 1)                           # To change the shape from (10,) to (10,1). We can also use b.reshape() to change the shape of arrays\n",
        "print(\"array with new shape: \\n\", b)        # Printing the array\n",
        "print(\"New shape:\", b.shape)                # To derive the shape of the array"
      ],
      "execution_count": 4,
      "outputs": [
        {
          "output_type": "stream",
          "text": [
            "[0. 0. 0. 0. 0. 0. 0. 0. 0. 0.]\n",
            "(10,)\n",
            "array with new shape: \n",
            " [[0.]\n",
            " [0.]\n",
            " [0.]\n",
            " [0.]\n",
            " [0.]\n",
            " [0.]\n",
            " [0.]\n",
            " [0.]\n",
            " [0.]\n",
            " [0.]]\n",
            "New shape: (10, 1)\n"
          ],
          "name": "stdout"
        }
      ]
    },
    {
      "cell_type": "code",
      "metadata": {
        "id": "NdPAFStcKp_R",
        "colab_type": "code",
        "colab": {
          "base_uri": "https://localhost:8080/",
          "height": 202
        },
        "outputId": "a708c976-b333-4cd0-bc08-0870b298d4a4"
      },
      "source": [
        "c = np.ones(10)                        # Create an array of all ones\n",
        "print(\"c:\", c, \"\\n--------------\")\n",
        "\n",
        "d = np.full((2,2), 7)                  # Create a constant array\n",
        "print(\"d:\\n\", d, \"\\n--------------\")\n",
        "\n",
        "e = np.eye(2)                          # Create a 2x2 identity matrix\n",
        "print(\"e:\\n\", e, \"\\n--------------\")\n",
        "\n",
        "f = np.linspace(2, 10, 5)              # From 2 to 10 with 5 elements\n",
        "print(\"f: \", f)"
      ],
      "execution_count": 5,
      "outputs": [
        {
          "output_type": "stream",
          "text": [
            "c: [1. 1. 1. 1. 1. 1. 1. 1. 1. 1.] \n",
            "--------------\n",
            "d:\n",
            " [[7 7]\n",
            " [7 7]] \n",
            "--------------\n",
            "e:\n",
            " [[1. 0.]\n",
            " [0. 1.]] \n",
            "--------------\n",
            "f:  [ 2.  4.  6.  8. 10.]\n"
          ],
          "name": "stdout"
        }
      ]
    },
    {
      "cell_type": "code",
      "metadata": {
        "id": "5C9LZ1NAPxZU",
        "colab_type": "code",
        "colab": {
          "base_uri": "https://localhost:8080/",
          "height": 50
        },
        "outputId": "528bf3c5-4106-4de6-f985-e43a29ede571"
      },
      "source": [
        "# Finally np.array\n",
        "a = np.array([10, 20, 30, 40, 50], dtype=np.float32)    # ndarray from python List\n",
        "print(a)\n",
        "a_list = [10, 20, 30, 40, 60]\n",
        "a = np.array(a_list, dtype=np.float64)                  # ndarray by passing the list using a variable\n",
        "b = np.asarray(a_list, float)                           # yet another way of creating the ndarray by passing the list\n",
        "print(a)\n",
        "\n",
        "?a"
      ],
      "execution_count": 6,
      "outputs": [
        {
          "output_type": "stream",
          "text": [
            "[10. 20. 30. 40. 50.]\n",
            "[10. 20. 30. 40. 60.]\n"
          ],
          "name": "stdout"
        }
      ]
    },
    {
      "cell_type": "code",
      "metadata": {
        "id": "dbrOdvE8SXOG",
        "colab_type": "code",
        "colab": {
          "base_uri": "https://localhost:8080/",
          "height": 84
        },
        "outputId": "20e5d7aa-8ed8-4424-8f06-f5a000a7c3fc"
      },
      "source": [
        "np.random.seed(0)                                    # With the seed reset (every time), the same set of numbers will appear every time. However, If the random seed is not reset, different numbers appear with every invocation\n",
        "a = np.random.random((2,2))                          # Create an array filled with random values. Returns random floats in the half-open interval [0.0, 1.0)\n",
        "print(a, \"\\n\")\n",
        "\n",
        "a1 = np.random.randint(0, high=10, size=6)          # Create an array filled with random integer values. Returns random floats in the half-open interval [0.0(low), 10(high))\n",
        "print(a1)"
      ],
      "execution_count": 7,
      "outputs": [
        {
          "output_type": "stream",
          "text": [
            "[[0.5488135  0.71518937]\n",
            " [0.60276338 0.54488318]] \n",
            "\n",
            "[9 3 5 2 4 7]\n"
          ],
          "name": "stdout"
        }
      ]
    },
    {
      "cell_type": "markdown",
      "metadata": {
        "id": "W-dNJJISWAEt",
        "colab_type": "text"
      },
      "source": [
        "# Array indexing"
      ]
    },
    {
      "cell_type": "code",
      "metadata": {
        "id": "YvAx6uCgV3kv",
        "colab_type": "code",
        "colab": {
          "base_uri": "https://localhost:8080/",
          "height": 101
        },
        "outputId": "5b56300a-016a-41a2-9074-82da463f51df"
      },
      "source": [
        "# To get a single element\n",
        "print(\"a1[2]: \", a1[2], \"\\n\")\n",
        "\n",
        "# To get the last element\n",
        "print(\"a1[-1]: \", a1[-1], \"\\n\")\n",
        "\n",
        "# Slicing the array or get a range of values\n",
        "print(\"a[:, 0]: \", a[0, :])"
      ],
      "execution_count": 8,
      "outputs": [
        {
          "output_type": "stream",
          "text": [
            "a1[2]:  5 \n",
            "\n",
            "a1[-1]:  7 \n",
            "\n",
            "a[:, 0]:  [0.5488135  0.71518937]\n"
          ],
          "name": "stdout"
        }
      ]
    },
    {
      "cell_type": "code",
      "metadata": {
        "id": "7kKFGNU5rsVY",
        "colab_type": "code",
        "colab": {
          "base_uri": "https://localhost:8080/",
          "height": 118
        },
        "outputId": "c322cfad-4b39-4237-ef26-6d836e45faf8"
      },
      "source": [
        "# Boolean array indexing\n",
        "a = np.array([[1,2], [3, 4], [5, 6]])\n",
        "\n",
        "bool_idx = (a > 2)                             # Find the elements of a that are bigger than 2\n",
        "\n",
        "print(\"bool_idx:\\n\", bool_idx, \"\\n\")           # Print the bool_idx array\n",
        "\n",
        "print(a[bool_idx])                             # We use boolean array indexing to construct a rank 1 array consisting of the elements of a corresponding to the True values of bool_idx"
      ],
      "execution_count": 9,
      "outputs": [
        {
          "output_type": "stream",
          "text": [
            "bool_idx:\n",
            " [[False False]\n",
            " [ True  True]\n",
            " [ True  True]] \n",
            "\n",
            "[3 4 5 6]\n"
          ],
          "name": "stdout"
        }
      ]
    },
    {
      "cell_type": "code",
      "metadata": {
        "id": "mkh86xE4t1BE",
        "colab_type": "code",
        "colab": {
          "base_uri": "https://localhost:8080/",
          "height": 34
        },
        "outputId": "4b576faf-14f4-4be9-c5e0-a4c1519b41ef"
      },
      "source": [
        "# Another way to do the same task and way that you will encounter more commmonly\n",
        "a[a > 2]                                     # Array where the array is greater than "
      ],
      "execution_count": 10,
      "outputs": [
        {
          "output_type": "execute_result",
          "data": {
            "text/plain": [
              "array([3, 4, 5, 6])"
            ]
          },
          "metadata": {
            "tags": []
          },
          "execution_count": 10
        }
      ]
    },
    {
      "cell_type": "markdown",
      "metadata": {
        "id": "JeHc_8PYvzIG",
        "colab_type": "text"
      },
      "source": [
        "# Array math\n",
        "Basic mathematical functions operate elementwise on arrays, and are available both as operator overloads and as functions in the numpy module"
      ]
    },
    {
      "cell_type": "code",
      "metadata": {
        "id": "_s4hO9AxuK5a",
        "colab_type": "code",
        "colab": {
          "base_uri": "https://localhost:8080/",
          "height": 0
        },
        "outputId": "8db3dd77-3f37-4477-a20b-20517d63ffe7"
      },
      "source": [
        "x = np.array([[1,2],[3,4]], dtype=np.float64)\n",
        "y = np.array([[5,6],[7,8]], dtype=np.float64)\n",
        "\n",
        "# Elementwise sum\n",
        "print(\"Elementwise sum\")\n",
        "print(\"x + y:\\n\", x+y)\n",
        "print(\"np.add(x,y):\\n\", np.add(x,y))\n",
        "\n",
        "# Elementwise difference\n",
        "print(\"\\nElementwise difference\")\n",
        "print(\"x - y:\\n\", x - y)\n",
        "print(\"np.subtract(x, y):\\n\", np.subtract(x, y))\n",
        "\n",
        "# Elementwise product\n",
        "print(\"\\nElementwise product\")\n",
        "print(\"x * y:\\n\", x * y)\n",
        "print(\"np.multiply(x, y):\\n\", np.multiply(x, y))\n",
        "\n",
        "# Elementwise division\n",
        "print(\"\\nElementwise division\")\n",
        "print(\"x / y:\\n\", x / y)\n",
        "print(\"np.divide(x, y):\\n\", np.divide(x, y))\n",
        "\n",
        "# Elementwise square root\n",
        "print(\"\\nElementwise square root\")\n",
        "print(\"np.sqrt(x):\\n\", np.sqrt(x))"
      ],
      "execution_count": 11,
      "outputs": [
        {
          "output_type": "stream",
          "text": [
            "Elementwise sum\n",
            "x + y:\n",
            " [[ 6.  8.]\n",
            " [10. 12.]]\n",
            "np.add(x,y):\n",
            " [[ 6.  8.]\n",
            " [10. 12.]]\n",
            "\n",
            "Elementwise difference\n",
            "x - y:\n",
            " [[-4. -4.]\n",
            " [-4. -4.]]\n",
            "np.subtract(x, y):\n",
            " [[-4. -4.]\n",
            " [-4. -4.]]\n",
            "\n",
            "Elementwise product\n",
            "x * y:\n",
            " [[ 5. 12.]\n",
            " [21. 32.]]\n",
            "np.multiply(x, y):\n",
            " [[ 5. 12.]\n",
            " [21. 32.]]\n",
            "\n",
            "Elementwise division\n",
            "x / y:\n",
            " [[0.2        0.33333333]\n",
            " [0.42857143 0.5       ]]\n",
            "np.divide(x, y):\n",
            " [[0.2        0.33333333]\n",
            " [0.42857143 0.5       ]]\n",
            "\n",
            "Elementwise square root\n",
            "np.sqrt(x):\n",
            " [[1.         1.41421356]\n",
            " [1.73205081 2.        ]]\n"
          ],
          "name": "stdout"
        }
      ]
    },
    {
      "cell_type": "code",
      "metadata": {
        "id": "cW8ia1y1yACI",
        "colab_type": "code",
        "colab": {
          "base_uri": "https://localhost:8080/",
          "height": 0
        },
        "outputId": "7d775241-36dc-4ba7-9c21-2fa51dab4432"
      },
      "source": [
        "# Dot product and cross product in matrices\n",
        "\n",
        "x = np.array([[1,2],[3,4]])\n",
        "y = np.array([[5,6],[7,8]])\n",
        "\n",
        "\n",
        "# Dot product of vectors\n",
        "print(\"x.dot(y):\\n\", x.dot(y))\n",
        "print(\"np.dot(x, y):\\n\", np.dot(x, y))\n",
        "\n",
        "# cross product do exist the method is same as dot product we call the function np.cross() but we won't do here because we won't use it much\n",
        "\n",
        "# X Transpose\n",
        "print(x, \"\\n------------------\")\n",
        "print(x.T) "
      ],
      "execution_count": 12,
      "outputs": [
        {
          "output_type": "stream",
          "text": [
            "x.dot(y):\n",
            " [[19 22]\n",
            " [43 50]]\n",
            "np.dot(x, y):\n",
            " [[19 22]\n",
            " [43 50]]\n",
            "[[1 2]\n",
            " [3 4]] \n",
            "------------------\n",
            "[[1 3]\n",
            " [2 4]]\n"
          ],
          "name": "stdout"
        }
      ]
    },
    {
      "cell_type": "code",
      "metadata": {
        "id": "guZP_3bF2c58",
        "colab_type": "code",
        "colab": {
          "base_uri": "https://localhost:8080/",
          "height": 0
        },
        "outputId": "45f24f73-0023-446b-f5f9-634c15484c55"
      },
      "source": [
        "! wget http://www.bijouxandbits.com/wp-content/uploads/2016/06/portal-cake-10.jpg"
      ],
      "execution_count": 13,
      "outputs": [
        {
          "output_type": "stream",
          "text": [
            "--2020-07-02 10:18:41--  http://www.bijouxandbits.com/wp-content/uploads/2016/06/portal-cake-10.jpg\n",
            "Resolving www.bijouxandbits.com (www.bijouxandbits.com)... 151.101.2.159\n",
            "Connecting to www.bijouxandbits.com (www.bijouxandbits.com)|151.101.2.159|:80... connected.\n",
            "HTTP request sent, awaiting response... 301 Moved Permanently\n",
            "Location: https://www.bijouxandbits.com/wp-content/uploads/2016/06/portal-cake-10.jpg [following]\n",
            "--2020-07-02 10:18:41--  https://www.bijouxandbits.com/wp-content/uploads/2016/06/portal-cake-10.jpg\n",
            "Connecting to www.bijouxandbits.com (www.bijouxandbits.com)|151.101.2.159|:443... connected.\n",
            "HTTP request sent, awaiting response... 200 OK\n",
            "Length: 273364 (267K) [image/jpeg]\n",
            "Saving to: ‘portal-cake-10.jpg’\n",
            "\n",
            "\rportal-cake-10.jpg    0%[                    ]       0  --.-KB/s               \rportal-cake-10.jpg  100%[===================>] 266.96K  --.-KB/s    in 0.05s   \n",
            "\n",
            "2020-07-02 10:18:41 (5.02 MB/s) - ‘portal-cake-10.jpg’ saved [273364/273364]\n",
            "\n"
          ],
          "name": "stdout"
        }
      ]
    },
    {
      "cell_type": "code",
      "metadata": {
        "id": "o-bKzHWK3Ewh",
        "colab_type": "code",
        "colab": {
          "base_uri": "https://localhost:8080/",
          "height": 0
        },
        "outputId": "2f3bab93-947e-49a7-a8b4-bd19ec12e581"
      },
      "source": [
        "from skimage import io\n",
        "\n",
        "photo_array = io.imread('portal-cake-10.jpg')\n",
        "type(photo_array)"
      ],
      "execution_count": 14,
      "outputs": [
        {
          "output_type": "execute_result",
          "data": {
            "text/plain": [
              "numpy.ndarray"
            ]
          },
          "metadata": {
            "tags": []
          },
          "execution_count": 14
        }
      ]
    },
    {
      "cell_type": "code",
      "metadata": {
        "id": "aV_rBgdH4Poz",
        "colab_type": "code",
        "colab": {
          "base_uri": "https://localhost:8080/",
          "height": 0
        },
        "outputId": "ed523969-5f5d-4cba-b397-c16239ec6879"
      },
      "source": [
        "photo_array"
      ],
      "execution_count": 15,
      "outputs": [
        {
          "output_type": "execute_result",
          "data": {
            "text/plain": [
              "array([[[ 24,  28,  39],\n",
              "        [ 24,  28,  39],\n",
              "        [ 24,  28,  39],\n",
              "        ...,\n",
              "        [ 15,  23,  26],\n",
              "        [ 14,  22,  25],\n",
              "        [ 16,  21,  25]],\n",
              "\n",
              "       [[ 23,  27,  38],\n",
              "        [ 23,  27,  38],\n",
              "        [ 23,  27,  38],\n",
              "        ...,\n",
              "        [ 16,  24,  27],\n",
              "        [ 14,  22,  25],\n",
              "        [ 13,  21,  24]],\n",
              "\n",
              "       [[ 23,  27,  38],\n",
              "        [ 24,  28,  39],\n",
              "        [ 24,  28,  39],\n",
              "        ...,\n",
              "        [ 15,  23,  26],\n",
              "        [ 13,  21,  24],\n",
              "        [ 13,  21,  24]],\n",
              "\n",
              "       ...,\n",
              "\n",
              "       [[176, 176, 188],\n",
              "        [179, 181, 193],\n",
              "        [183, 192, 201],\n",
              "        ...,\n",
              "        [ 23,  26,  31],\n",
              "        [ 22,  25,  30],\n",
              "        [ 22,  25,  30]],\n",
              "\n",
              "       [[144, 151, 167],\n",
              "        [152, 162, 174],\n",
              "        [163, 173, 185],\n",
              "        ...,\n",
              "        [ 22,  25,  30],\n",
              "        [ 21,  24,  29],\n",
              "        [ 21,  24,  29]],\n",
              "\n",
              "       [[ 90, 108, 122],\n",
              "        [103, 119, 134],\n",
              "        [115, 131, 144],\n",
              "        ...,\n",
              "        [ 22,  25,  30],\n",
              "        [ 22,  25,  30],\n",
              "        [ 23,  26,  31]]], dtype=uint8)"
            ]
          },
          "metadata": {
            "tags": []
          },
          "execution_count": 15
        }
      ]
    },
    {
      "cell_type": "code",
      "metadata": {
        "id": "8hZDKSVe4VhZ",
        "colab_type": "code",
        "colab": {
          "base_uri": "https://localhost:8080/",
          "height": 0
        },
        "outputId": "9a43e283-eb1a-49bf-d385-4d933b3ea1c8"
      },
      "source": [
        "photo_array.shape"
      ],
      "execution_count": 16,
      "outputs": [
        {
          "output_type": "execute_result",
          "data": {
            "text/plain": [
              "(800, 800, 3)"
            ]
          },
          "metadata": {
            "tags": []
          },
          "execution_count": 16
        }
      ]
    },
    {
      "cell_type": "code",
      "metadata": {
        "id": "B-TPfpEX4hXa",
        "colab_type": "code",
        "colab": {
          "base_uri": "https://localhost:8080/",
          "height": 0
        },
        "outputId": "ad1da939-fdc7-4a41-96fc-56856b3eca74"
      },
      "source": [
        "photo_sin = np.sin(photo_array)\n",
        "photo_sin"
      ],
      "execution_count": 17,
      "outputs": [
        {
          "output_type": "execute_result",
          "data": {
            "text/plain": [
              "array([[[-0.906  ,  0.271  ,  0.964  ],\n",
              "        [-0.906  ,  0.271  ,  0.964  ],\n",
              "        [-0.906  ,  0.271  ,  0.964  ],\n",
              "        ...,\n",
              "        [ 0.6504 , -0.846  ,  0.7627 ],\n",
              "        [ 0.9907 , -0.00885, -0.1323 ],\n",
              "        [-0.2878 ,  0.8364 , -0.1323 ]],\n",
              "\n",
              "       [[-0.846  ,  0.9565 ,  0.2964 ],\n",
              "        [-0.846  ,  0.9565 ,  0.2964 ],\n",
              "        [-0.846  ,  0.9565 ,  0.2964 ],\n",
              "        ...,\n",
              "        [-0.2878 , -0.906  ,  0.9565 ],\n",
              "        [ 0.9907 , -0.00885, -0.1323 ],\n",
              "        [ 0.4202 ,  0.8364 , -0.906  ]],\n",
              "\n",
              "       [[-0.846  ,  0.9565 ,  0.2964 ],\n",
              "        [-0.906  ,  0.271  ,  0.964  ],\n",
              "        [-0.906  ,  0.271  ,  0.964  ],\n",
              "        ...,\n",
              "        [ 0.6504 , -0.846  ,  0.7627 ],\n",
              "        [ 0.4202 ,  0.8364 , -0.906  ],\n",
              "        [ 0.4202 ,  0.8364 , -0.906  ]],\n",
              "\n",
              "       ...,\n",
              "\n",
              "       [[ 0.07074,  0.07074, -0.4756 ],\n",
              "        [ 0.07074, -0.9365 , -0.9785 ],\n",
              "        [ 0.7085 , -0.355  , -0.0619 ],\n",
              "        ...,\n",
              "        [-0.846  ,  0.7627 , -0.404  ],\n",
              "        [-0.00885, -0.1323 , -0.988  ],\n",
              "        [-0.00885, -0.1323 , -0.988  ]],\n",
              "\n",
              "       [[-0.491  ,  0.2021 , -0.4756 ],\n",
              "        [ 0.933  , -0.9785 , -0.9365 ],\n",
              "        [-0.355  , -0.2108 ,  0.3467 ],\n",
              "        ...,\n",
              "        [-0.00885, -0.1323 , -0.988  ],\n",
              "        [ 0.8364 , -0.906  , -0.6636 ],\n",
              "        [ 0.8364 , -0.906  , -0.6636 ]],\n",
              "\n",
              "       [[ 0.894  ,  0.927  ,  0.4988 ],\n",
              "        [ 0.623  , -0.3713 ,  0.8857 ],\n",
              "        [ 0.9453 , -0.8115 , -0.491  ],\n",
              "        ...,\n",
              "        [-0.00885, -0.1323 , -0.988  ],\n",
              "        [-0.00885, -0.1323 , -0.988  ],\n",
              "        [-0.846  ,  0.7627 , -0.404  ]]], dtype=float16)"
            ]
          },
          "metadata": {
            "tags": []
          },
          "execution_count": 17
        }
      ]
    },
    {
      "cell_type": "code",
      "metadata": {
        "id": "1EilDLB440lp",
        "colab_type": "code",
        "colab": {
          "base_uri": "https://localhost:8080/",
          "height": 0
        },
        "outputId": "b4918670-8bd6-4c97-e103-d87ed2ddd15b"
      },
      "source": [
        "# Compute the sum of all elements\n",
        "print(\"np.sum(photo_sin):\\n\", np.sum(photo_sin))                  # Compute sum of all elements\n",
        "print(\"np.sum(photo_sin, axis=0):\\n\", np.sum(photo_sin, axis=0))  # Compute sum of each column\n",
        "print(\"np.sum(photo_sin, axis=1):\\n\", np.sum(photo_sin, axis=1))  # Compute sum of each row"
      ],
      "execution_count": 18,
      "outputs": [
        {
          "output_type": "stream",
          "text": [
            "np.sum(photo_sin):\n",
            " 2412.0\n",
            "np.sum(photo_sin, axis=0):\n",
            " [[-21.45   29.53  -54.7  ]\n",
            " [-30.5    -1.731 -76.56 ]\n",
            " [-26.38   29.97  -82.4  ]\n",
            " ...\n",
            " [ 70.8   -34.4    39.28 ]\n",
            " [ 61.22  -59.34   12.875]\n",
            " [ 61.28  -47.06   38.16 ]]\n",
            "np.sum(photo_sin, axis=1):\n",
            " [[ 67.2    70.9   -71.6  ]\n",
            " [ 37.97  125.06  -85.75 ]\n",
            " [ 19.16   72.1   -54.88 ]\n",
            " ...\n",
            " [  8.086  26.97  -53.56 ]\n",
            " [ -2.115   8.11   26.61 ]\n",
            " [  3.44  -23.48   21.14 ]]\n"
          ],
          "name": "stdout"
        }
      ]
    },
    {
      "cell_type": "code",
      "metadata": {
        "id": "9oiwuvv55Ws1",
        "colab_type": "code",
        "colab": {
          "base_uri": "https://localhost:8080/",
          "height": 0
        },
        "outputId": "0845a9c0-7764-4922-fe1c-2b593b5733eb"
      },
      "source": [
        "# Some statistics\n",
        "print(\"np.mean(photo_sin):\\n\", np.mean(photo_sin))                  # Compute mean of all elements\n",
        "print(\"np.std(photo_sin):\\n\", np.std(photo_sin))                    # Compute standard deviation of all elements\n",
        "print(\"np.var(photo_sin):\\n\", np.var(photo_sin))                    # Compute variance of all elements\n",
        "print(\"np.min(photo_sin):\\n\", np.min(photo_sin))                    # Compute minimum of all elements\n",
        "print(\"np.max(photo_sin):\\n\", np.max(photo_sin))                    # Compute maximum of all elements\n",
        "print(\"np.argmin(photo_sin):\\n\", np.argmin(photo_sin))              # Compute index of minimum of all elements(the index is into the flattened array)\n",
        "print(\"np.argmax(photo_sin):\\n\", np.argmax(photo_sin))              # Compute index of maximum of all elements(the index is into the flattened array)"
      ],
      "execution_count": 19,
      "outputs": [
        {
          "output_type": "stream",
          "text": [
            "np.mean(photo_sin):\n",
            " 0.001247\n",
            "np.std(photo_sin):\n",
            " inf\n",
            "np.var(photo_sin):\n",
            " inf\n",
            "np.min(photo_sin):\n",
            " -1.0\n",
            "np.max(photo_sin):\n",
            " 1.0\n",
            "np.argmin(photo_sin):\n",
            " 7176\n",
            "np.argmax(photo_sin):\n",
            " 247\n"
          ],
          "name": "stdout"
        },
        {
          "output_type": "stream",
          "text": [
            "/usr/local/lib/python3.6/dist-packages/numpy/core/_methods.py:199: RuntimeWarning: overflow encountered in reduce\n",
            "  ret = umr_sum(x, axis, dtype, out, keepdims)\n"
          ],
          "name": "stderr"
        }
      ]
    },
    {
      "cell_type": "markdown",
      "metadata": {
        "id": "9-gg49y9GgpE",
        "colab_type": "text"
      },
      "source": [
        "# Plotting\n",
        "\n",
        "\n"
      ]
    },
    {
      "cell_type": "code",
      "metadata": {
        "id": "wsc5mWHqG15C",
        "colab_type": "code",
        "colab": {}
      },
      "source": [
        "import matplotlib.pyplot as plt"
      ],
      "execution_count": 20,
      "outputs": []
    },
    {
      "cell_type": "code",
      "metadata": {
        "id": "vlgwG7sFG3-y",
        "colab_type": "code",
        "colab": {
          "base_uri": "https://localhost:8080/",
          "height": 185
        },
        "outputId": "7e18d78e-c242-4f52-96cc-eb97f6b97eb5"
      },
      "source": [
        "x = np.random.random((10, 1))\n",
        "print(x)"
      ],
      "execution_count": 21,
      "outputs": [
        {
          "output_type": "stream",
          "text": [
            "[[0.891773  ]\n",
            " [0.96366276]\n",
            " [0.38344152]\n",
            " [0.79172504]\n",
            " [0.52889492]\n",
            " [0.56804456]\n",
            " [0.92559664]\n",
            " [0.07103606]\n",
            " [0.0871293 ]\n",
            " [0.0202184 ]]\n"
          ],
          "name": "stdout"
        }
      ]
    },
    {
      "cell_type": "code",
      "metadata": {
        "id": "jBA6ZDvHG9-Y",
        "colab_type": "code",
        "colab": {
          "base_uri": "https://localhost:8080/",
          "height": 267
        },
        "outputId": "5c47a75b-7c9a-4d16-ac83-f5bbcc289ec1"
      },
      "source": [
        "plt.plot(x, '*-')\n",
        "plt.show()"
      ],
      "execution_count": 22,
      "outputs": [
        {
          "output_type": "display_data",
          "data": {
            "image/png": "[encoded data removed]",
            "text/plain": [
              "<Figure size 432x288 with 1 Axes>"
            ]
          },
          "metadata": {
            "tags": [],
            "needs_background": "light"
          }
        }
      ]
    },
    {
      "cell_type": "markdown",
      "metadata": {
        "id": "kqWF-LT6l3LP",
        "colab_type": "text"
      },
      "source": [
        "**Some key points to know from my mistake**\n",
        "\n",
        "Previous(with error) code:\n",
        "```\n",
        "x = np.linspace(0, 100, 50)\n",
        "y = np.power(x, 2)\n",
        "plt.plot(x, y, label='y = x^2', '+')\n",
        "plt.set_xlabel('X')\n",
        "plt.set_ylabel('Y')\n",
        "```\n",
        "Matplotlib had the pyplot interface, and then later developed the object-oriented interface.\n",
        "1. I was doing wrong by passing the attribute of **object-oriented interface** to **pyplot interface**. We will learn about **object-oriented interface** when we will use it. It's easy to use **pyplot interface** and fullfil most of the requirements. So we are studying here. I tried to cover up **Only the necessary ones**\n",
        "2. To use labels we need a continous line and we also need to call `plt.legend()` as well.Sorry my mistakes😅 .\n",
        "\n",
        "\n"
      ]
    },
    {
      "cell_type": "code",
      "metadata": {
        "id": "-NWe8_kyHCBo",
        "colab_type": "code",
        "colab": {
          "base_uri": "https://localhost:8080/",
          "height": 295
        },
        "outputId": "13ab9ad3-5c2c-437c-bb6c-65f9833cac87"
      },
      "source": [
        "x = np.linspace(0, 100, 50)\n",
        "y = np.power(x, 2)\n",
        "plt.plot(x, y, label='y = x^2') \n",
        "plt.xlabel('X')                      \n",
        "plt.ylabel('Y')\n",
        "plt.legend()\n",
        "plt.title('Square Funtion')\n",
        "plt.show()"
      ],
      "execution_count": 23,
      "outputs": [
        {
          "output_type": "display_data",
          "data": {
            "image/png": "[encoded data removed]",
            "text/plain": [
              "<Figure size 432x288 with 1 Axes>"
            ]
          },
          "metadata": {
            "tags": [],
            "needs_background": "light"
          }
        }
      ]
    },
    {
      "cell_type": "markdown",
      "metadata": {
        "id": "yvao7nAlhnFt",
        "colab_type": "text"
      },
      "source": [
        "# Broadcasting\n",
        "Broadcasting is a powerful mechanism that allows numpy to work with arrays of different shapes when performing arithmetic operations\n",
        "\n",
        "Generalising broadcasting\n",
        "1. (m,n) math_operation (1,n) => (m,n)\n",
        "2. (m,n) math_operation (m,1) => (m,n)\n",
        "3. (m,n) math_operation scalar => (m,n)\n",
        "4. (m,1) math_operation scalar => (m,1)\n",
        "5. (1,n) math_operation scalar => (1,n)"
      ]
    },
    {
      "cell_type": "code",
      "metadata": {
        "id": "UiJ8ZhNBjKBP",
        "colab_type": "code",
        "colab": {
          "base_uri": "https://localhost:8080/",
          "height": 84
        },
        "outputId": "836cde73-33c4-49b4-fb75-2e2fea466cbc"
      },
      "source": [
        "x = np.array([[1,2,3], [4,5,6], [7,8,9], [10, 11, 12]])\n",
        "y = np.array([1, 0, 1])\n",
        "\n",
        "z = x + y                                 # add y to each row using broadcasting\n",
        "z"
      ],
      "execution_count": 24,
      "outputs": [
        {
          "output_type": "execute_result",
          "data": {
            "text/plain": [
              "array([[ 2,  2,  4],\n",
              "       [ 5,  5,  7],\n",
              "       [ 8,  8, 10],\n",
              "       [11, 11, 13]])"
            ]
          },
          "metadata": {
            "tags": []
          },
          "execution_count": 24
        }
      ]
    },
    {
      "cell_type": "code",
      "metadata": {
        "id": "nn7Jyykmtzos",
        "colab_type": "code",
        "colab": {
          "base_uri": "https://localhost:8080/",
          "height": 67
        },
        "outputId": "5ae6da75-390e-4a17-d333-a159bcd451c1"
      },
      "source": [
        "# One more example of Broadcasting\n",
        "# Compute outer product of vectors\n",
        "v = np.array([1,2,3])  # v has shape (3,)\n",
        "w = np.array([4,5])    # w has shape (2,)\n",
        "\n",
        "# To compute an outer product, we first reshape v to be a column\n",
        "# vector of shape (3, 1); we can then broadcast it against w to yield\n",
        "# an output of shape (3, 2), which is the outer product of v and w:\n",
        "# [[1 1]     [[4 5]  => [[ 4  5]\n",
        "#  [2 2]  *   [4 5]  =>  [ 8 10]\n",
        "#  [3 3]]     [4 5]] =>  [12 15]]\n",
        "print(np.reshape(v, (3, 1)) * w)"
      ],
      "execution_count": 25,
      "outputs": [
        {
          "output_type": "stream",
          "text": [
            "[[ 4  5]\n",
            " [ 8 10]\n",
            " [12 15]]\n"
          ],
          "name": "stdout"
        }
      ]
    },
    {
      "cell_type": "markdown",
      "metadata": {
        "id": "atfCTa8-v567",
        "colab_type": "text"
      },
      "source": [
        "# So how fast is numpy?"
      ]
    },
    {
      "cell_type": "code",
      "metadata": {
        "id": "Z6L6Nm7Tv_vt",
        "colab_type": "code",
        "colab": {
          "base_uri": "https://localhost:8080/",
          "height": 50
        },
        "outputId": "b5987cfb-8d3e-4a07-9e70-94a968215075"
      },
      "source": [
        "import time\n",
        "size = 1000000  #Size of array \n",
        "L1 = range(size)\n",
        "L2 = range(size)\n",
        "\n",
        "a1 = np.arange(size)  # It creates an instance of ndarray with evenly spaced values. Here, [0, size)\n",
        "a2 = np.arange(size)  # It creates an instance of ndarray with evenly spaced values. Here, [0, size)\n",
        "\n",
        "## list\n",
        "start = time.time()\n",
        "result = [(x+y) for x,y in zip(L1 , L2)]\n",
        "print(\"python list took :\" ,(time.time()-start)*1000 )\n",
        "\n",
        "\n",
        "## numpy array\n",
        "start = time.time()\n",
        "result = a1 + a2\n",
        "print(\"numpy array took :\" ,(time.time() - start)*1000)\n"
      ],
      "execution_count": 26,
      "outputs": [
        {
          "output_type": "stream",
          "text": [
            "python list took : 122.23100662231445\n",
            "numpy array took : 13.183355331420898\n"
          ],
          "name": "stdout"
        }
      ]
    },
    {
      "cell_type": "markdown",
      "metadata": {
        "id": "QWwkst4lxVTH",
        "colab_type": "text"
      },
      "source": [
        "## Final words\n",
        "Thanks to all the bloggers and developers from where I compiled all the resources.\n",
        "Some useful refrences but not limited to:\n",
        "1. [Learn NUMPY in 5 minutes - BEST Python Library!](https://www.youtube.com/watch?v=xECXZ3tyONo&list=PLKmLrMJKg-cK5PAjJjgeA5IayDGbeUlQl&index=40&t=0s)\n",
        "2. [Python Numpy Tutorial](https://cs231n.github.io/python-numpy-tutorial/)\n",
        "3. [Matplotlib in Python](https://www.youtube.com/watch?v=6rKe2IEIu8c)\n"
      ]
    },
    {
      "cell_type": "markdown",
      "metadata": {
        "id": "24WxPxrzCVux",
        "colab_type": "text"
      },
      "source": [
        ""
      ]
    }
  ]
}